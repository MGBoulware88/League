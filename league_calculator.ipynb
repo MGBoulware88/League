{
 "cells": [
  {
   "cell_type": "code",
   "execution_count": null,
   "metadata": {},
   "outputs": [],
   "source": [
    "#define variables from user input\n",
    "\n",
    "gain = int(input('How much LP do you gain?\\n'))\n",
    "lose = int(input('\\nHow much LP do you lose?\\n'))\n",
    "goal = int(input('\\nHow much LP do you need to gain?\\n'))\n",
    "\n",
    "#define formulas\n",
    "\n",
    "def lol_calc_variables(wins, losses):\n",
    "    total_lp_gained = gain * wins\n",
    "    total_lp_lost = lose * losses\n",
    "    rate = total_lp_gained - total_lp_lost\n",
    "    gain_over_rate = (goal / rate)\n",
    "    answer = round(gain_over_rate * 20) + 5 #add 5 for promos\n",
    "    return answer\n",
    "\n",
    "#define the calc function\n",
    "\n",
    "def lol_calculator(gain, lose, goal):\n",
    "\n",
    "    print(\"\\n\")\n",
    "\n",
    "    #check 55% win rate\n",
    "    answer = lol_calc_variables(11, 9)   \n",
    "\n",
    "    if answer > 0:\n",
    "        print(\"You will need to play at least {0:.0f} games with a >=55% win rate to reach your goal\\n\".format(answer))\n",
    "    else:\n",
    "        print(\"55% win rate is not enough\\n\")\n",
    "\n",
    "\n",
    "    #check 60% win rate    \n",
    "    answer = lol_calc_variables(12, 8)    \n",
    "\n",
    "    if answer > 0:\n",
    "        print(\"You will need to play at least {0:.0f} games with a >=60% win rate to reach your goal\\n\".format(answer))\n",
    "    else:\n",
    "        print(\"60% win rate is not enough\\n\")\n",
    "\n",
    "    \n",
    "    #check 65% win rate\n",
    "    answer = lol_calc_variables(13, 7)\n",
    "    \n",
    "    if answer > 0:\n",
    "        print(\"You will need to play at least {0:.0f} games with a >=65% win rate to reach your goal\\n\".format(answer))\n",
    "    else:\n",
    "        print(\"65% win rate is not enough\\n\")\n",
    "\n",
    "    \n",
    "    #check 70% win rate\n",
    "    answer = lol_calc_variables(14, 6)    \n",
    "\n",
    "    if answer > 0:\n",
    "        print(\"You will need to play at least {0:.0f} games with a >=70% win rate to reach your goal\\n\".format(answer))\n",
    "    else:\n",
    "        print(\"You need to raise your MMR or maintain a >70% win rate every 20 games\\n\")\n",
    "\n",
    "lol_calculator(gain, lose, goal)"
   ]
  }
 ],
 "metadata": {
  "kernelspec": {
   "display_name": "Python 3.10.5 64-bit (windows store)",
   "language": "python",
   "name": "python3"
  },
  "language_info": {
   "codemirror_mode": {
    "name": "ipython",
    "version": 3
   },
   "file_extension": ".py",
   "mimetype": "text/x-python",
   "name": "python",
   "nbconvert_exporter": "python",
   "pygments_lexer": "ipython3",
   "version": "3.10.8"
  },
  "orig_nbformat": 4,
  "vscode": {
   "interpreter": {
    "hash": "15b73ea3abc11e88f5fba6906939ca7dce967e0181c17665ccbd6cea9463d646"
   }
  }
 },
 "nbformat": 4,
 "nbformat_minor": 2
}
